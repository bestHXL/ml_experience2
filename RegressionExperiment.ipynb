{
 "cells": [
  {
   "cell_type": "code",
   "execution_count": 1,
   "metadata": {},
   "outputs": [
    {
     "ename": "KeyboardInterrupt",
     "evalue": "",
     "output_type": "error",
     "traceback": [
      "\u001b[1;31m---------------------------------------------------------------------------\u001b[0m",
      "\u001b[1;31mKeyboardInterrupt\u001b[0m                         Traceback (most recent call last)",
      "\u001b[1;32m<ipython-input-1-cb1d072a5ae9>\u001b[0m in \u001b[0;36m<module>\u001b[1;34m()\u001b[0m\n\u001b[1;32m----> 1\u001b[1;33m \u001b[1;32mfrom\u001b[0m \u001b[0msklearn\u001b[0m\u001b[1;33m.\u001b[0m\u001b[0mdatasets\u001b[0m \u001b[1;32mimport\u001b[0m \u001b[0mload_svmlight_file\u001b[0m\u001b[1;33m\u001b[0m\u001b[0m\n\u001b[0m\u001b[0;32m      2\u001b[0m \u001b[1;32mfrom\u001b[0m \u001b[0msklearn\u001b[0m\u001b[1;33m.\u001b[0m\u001b[0mmodel_selection\u001b[0m \u001b[1;32mimport\u001b[0m \u001b[0mtrain_test_split\u001b[0m\u001b[1;33m\u001b[0m\u001b[0m\n\u001b[0;32m      3\u001b[0m \u001b[1;32mimport\u001b[0m \u001b[0msklearn\u001b[0m\u001b[1;33m\u001b[0m\u001b[0m\n\u001b[0;32m      4\u001b[0m \u001b[1;32mimport\u001b[0m \u001b[0mnumpy\u001b[0m \u001b[1;32mas\u001b[0m \u001b[0mnp\u001b[0m\u001b[1;33m\u001b[0m\u001b[0m\n\u001b[0;32m      5\u001b[0m \u001b[1;32mimport\u001b[0m \u001b[0mjupyter\u001b[0m\u001b[1;33m\u001b[0m\u001b[0m\n",
      "\u001b[1;32mc:\\users\\86540\\appdata\\local\\programs\\python\\python36\\lib\\site-packages\\sklearn\\__init__.py\u001b[0m in \u001b[0;36m<module>\u001b[1;34m()\u001b[0m\n\u001b[0;32m    132\u001b[0m \u001b[1;32melse\u001b[0m\u001b[1;33m:\u001b[0m\u001b[1;33m\u001b[0m\u001b[0m\n\u001b[0;32m    133\u001b[0m     \u001b[1;32mfrom\u001b[0m \u001b[1;33m.\u001b[0m \u001b[1;32mimport\u001b[0m \u001b[0m__check_build\u001b[0m\u001b[1;33m\u001b[0m\u001b[0m\n\u001b[1;32m--> 134\u001b[1;33m     \u001b[1;32mfrom\u001b[0m \u001b[1;33m.\u001b[0m\u001b[0mbase\u001b[0m \u001b[1;32mimport\u001b[0m \u001b[0mclone\u001b[0m\u001b[1;33m\u001b[0m\u001b[0m\n\u001b[0m\u001b[0;32m    135\u001b[0m     \u001b[0m__check_build\u001b[0m  \u001b[1;31m# avoid flakes unused variable error\u001b[0m\u001b[1;33m\u001b[0m\u001b[0m\n\u001b[0;32m    136\u001b[0m \u001b[1;33m\u001b[0m\u001b[0m\n",
      "\u001b[1;32mc:\\users\\86540\\appdata\\local\\programs\\python\\python36\\lib\\site-packages\\sklearn\\base.py\u001b[0m in \u001b[0;36m<module>\u001b[1;34m()\u001b[0m\n\u001b[0;32m     11\u001b[0m \u001b[1;32mfrom\u001b[0m \u001b[0mscipy\u001b[0m \u001b[1;32mimport\u001b[0m \u001b[0msparse\u001b[0m\u001b[1;33m\u001b[0m\u001b[0m\n\u001b[0;32m     12\u001b[0m \u001b[1;32mfrom\u001b[0m \u001b[1;33m.\u001b[0m\u001b[0mexternals\u001b[0m \u001b[1;32mimport\u001b[0m \u001b[0msix\u001b[0m\u001b[1;33m\u001b[0m\u001b[0m\n\u001b[1;32m---> 13\u001b[1;33m \u001b[1;32mfrom\u001b[0m \u001b[1;33m.\u001b[0m\u001b[0mutils\u001b[0m\u001b[1;33m.\u001b[0m\u001b[0mfixes\u001b[0m \u001b[1;32mimport\u001b[0m \u001b[0msignature\u001b[0m\u001b[1;33m\u001b[0m\u001b[0m\n\u001b[0m\u001b[0;32m     14\u001b[0m \u001b[1;32mfrom\u001b[0m \u001b[1;33m.\u001b[0m \u001b[1;32mimport\u001b[0m \u001b[0m__version__\u001b[0m\u001b[1;33m\u001b[0m\u001b[0m\n\u001b[0;32m     15\u001b[0m \u001b[1;33m\u001b[0m\u001b[0m\n",
      "\u001b[1;32mc:\\users\\86540\\appdata\\local\\programs\\python\\python36\\lib\\site-packages\\sklearn\\utils\\__init__.py\u001b[0m in \u001b[0;36m<module>\u001b[1;34m()\u001b[0m\n\u001b[0;32m      9\u001b[0m \u001b[1;33m\u001b[0m\u001b[0m\n\u001b[0;32m     10\u001b[0m \u001b[1;32mfrom\u001b[0m \u001b[1;33m.\u001b[0m\u001b[0mmurmurhash\u001b[0m \u001b[1;32mimport\u001b[0m \u001b[0mmurmurhash3_32\u001b[0m\u001b[1;33m\u001b[0m\u001b[0m\n\u001b[1;32m---> 11\u001b[1;33m from .validation import (as_float_array,\n\u001b[0m\u001b[0;32m     12\u001b[0m                          \u001b[0massert_all_finite\u001b[0m\u001b[1;33m,\u001b[0m\u001b[1;33m\u001b[0m\u001b[0m\n\u001b[0;32m     13\u001b[0m                          \u001b[0mcheck_random_state\u001b[0m\u001b[1;33m,\u001b[0m \u001b[0mcolumn_or_1d\u001b[0m\u001b[1;33m,\u001b[0m \u001b[0mcheck_array\u001b[0m\u001b[1;33m,\u001b[0m\u001b[1;33m\u001b[0m\u001b[0m\n",
      "\u001b[1;32mc:\\users\\86540\\appdata\\local\\programs\\python\\python36\\lib\\site-packages\\sklearn\\utils\\validation.py\u001b[0m in \u001b[0;36m<module>\u001b[1;34m()\u001b[0m\n\u001b[0;32m     16\u001b[0m \u001b[1;33m\u001b[0m\u001b[0m\n\u001b[0;32m     17\u001b[0m \u001b[1;32mfrom\u001b[0m \u001b[1;33m.\u001b[0m\u001b[1;33m.\u001b[0m\u001b[0mexternals\u001b[0m \u001b[1;32mimport\u001b[0m \u001b[0msix\u001b[0m\u001b[1;33m\u001b[0m\u001b[0m\n\u001b[1;32m---> 18\u001b[1;33m \u001b[1;32mfrom\u001b[0m \u001b[1;33m.\u001b[0m\u001b[1;33m.\u001b[0m\u001b[0mutils\u001b[0m\u001b[1;33m.\u001b[0m\u001b[0mfixes\u001b[0m \u001b[1;32mimport\u001b[0m \u001b[0msignature\u001b[0m\u001b[1;33m\u001b[0m\u001b[0m\n\u001b[0m\u001b[0;32m     19\u001b[0m \u001b[1;32mfrom\u001b[0m \u001b[1;33m.\u001b[0m\u001b[1;33m.\u001b[0m \u001b[1;32mimport\u001b[0m \u001b[0mget_config\u001b[0m \u001b[1;32mas\u001b[0m \u001b[0m_get_config\u001b[0m\u001b[1;33m\u001b[0m\u001b[0m\n\u001b[0;32m     20\u001b[0m \u001b[1;32mfrom\u001b[0m \u001b[1;33m.\u001b[0m\u001b[1;33m.\u001b[0m\u001b[0mexceptions\u001b[0m \u001b[1;32mimport\u001b[0m \u001b[0mNonBLASDotWarning\u001b[0m\u001b[1;33m\u001b[0m\u001b[0m\n",
      "\u001b[1;32mc:\\users\\86540\\appdata\\local\\programs\\python\\python36\\lib\\site-packages\\sklearn\\utils\\fixes.py\u001b[0m in \u001b[0;36m<module>\u001b[1;34m()\u001b[0m\n\u001b[0;32m    142\u001b[0m     \u001b[1;32mfrom\u001b[0m \u001b[1;33m.\u001b[0m\u001b[0m_scipy_sparse_lsqr_backport\u001b[0m \u001b[1;32mimport\u001b[0m \u001b[0mlsqr\u001b[0m \u001b[1;32mas\u001b[0m \u001b[0msparse_lsqr\u001b[0m\u001b[1;33m\u001b[0m\u001b[0m\n\u001b[0;32m    143\u001b[0m \u001b[1;32melse\u001b[0m\u001b[1;33m:\u001b[0m\u001b[1;33m\u001b[0m\u001b[0m\n\u001b[1;32m--> 144\u001b[1;33m     \u001b[1;32mfrom\u001b[0m \u001b[0mscipy\u001b[0m\u001b[1;33m.\u001b[0m\u001b[0msparse\u001b[0m\u001b[1;33m.\u001b[0m\u001b[0mlinalg\u001b[0m \u001b[1;32mimport\u001b[0m \u001b[0mlsqr\u001b[0m \u001b[1;32mas\u001b[0m \u001b[0msparse_lsqr\u001b[0m  \u001b[1;31m# noqa\u001b[0m\u001b[1;33m\u001b[0m\u001b[0m\n\u001b[0m\u001b[0;32m    145\u001b[0m \u001b[1;33m\u001b[0m\u001b[0m\n\u001b[0;32m    146\u001b[0m \u001b[1;33m\u001b[0m\u001b[0m\n",
      "\u001b[1;32mc:\\users\\86540\\appdata\\local\\programs\\python\\python36\\lib\\site-packages\\scipy\\sparse\\linalg\\__init__.py\u001b[0m in \u001b[0;36m<module>\u001b[1;34m()\u001b[0m\n\u001b[0;32m    116\u001b[0m \u001b[1;32mfrom\u001b[0m \u001b[1;33m.\u001b[0m\u001b[0minterface\u001b[0m \u001b[1;32mimport\u001b[0m \u001b[1;33m*\u001b[0m\u001b[1;33m\u001b[0m\u001b[0m\n\u001b[0;32m    117\u001b[0m \u001b[1;32mfrom\u001b[0m \u001b[1;33m.\u001b[0m\u001b[0meigen\u001b[0m \u001b[1;32mimport\u001b[0m \u001b[1;33m*\u001b[0m\u001b[1;33m\u001b[0m\u001b[0m\n\u001b[1;32m--> 118\u001b[1;33m \u001b[1;32mfrom\u001b[0m \u001b[1;33m.\u001b[0m\u001b[0mmatfuncs\u001b[0m \u001b[1;32mimport\u001b[0m \u001b[1;33m*\u001b[0m\u001b[1;33m\u001b[0m\u001b[0m\n\u001b[0m\u001b[0;32m    119\u001b[0m \u001b[1;32mfrom\u001b[0m \u001b[1;33m.\u001b[0m\u001b[0m_onenormest\u001b[0m \u001b[1;32mimport\u001b[0m \u001b[1;33m*\u001b[0m\u001b[1;33m\u001b[0m\u001b[0m\n\u001b[0;32m    120\u001b[0m \u001b[1;32mfrom\u001b[0m \u001b[1;33m.\u001b[0m\u001b[0m_norm\u001b[0m \u001b[1;32mimport\u001b[0m \u001b[1;33m*\u001b[0m\u001b[1;33m\u001b[0m\u001b[0m\n",
      "\u001b[1;32mc:\\users\\86540\\appdata\\local\\programs\\python\\python36\\lib\\site-packages\\scipy\\sparse\\linalg\\matfuncs.py\u001b[0m in \u001b[0;36m<module>\u001b[1;34m()\u001b[0m\n\u001b[0;32m     17\u001b[0m \u001b[1;32mimport\u001b[0m \u001b[0mnumpy\u001b[0m \u001b[1;32mas\u001b[0m \u001b[0mnp\u001b[0m\u001b[1;33m\u001b[0m\u001b[0m\n\u001b[0;32m     18\u001b[0m \u001b[1;33m\u001b[0m\u001b[0m\n\u001b[1;32m---> 19\u001b[1;33m \u001b[1;32mimport\u001b[0m \u001b[0mscipy\u001b[0m\u001b[1;33m.\u001b[0m\u001b[0mspecial\u001b[0m\u001b[1;33m\u001b[0m\u001b[0m\n\u001b[0m\u001b[0;32m     20\u001b[0m \u001b[1;32mfrom\u001b[0m \u001b[0mscipy\u001b[0m\u001b[1;33m.\u001b[0m\u001b[0mlinalg\u001b[0m\u001b[1;33m.\u001b[0m\u001b[0mbasic\u001b[0m \u001b[1;32mimport\u001b[0m \u001b[0msolve\u001b[0m\u001b[1;33m,\u001b[0m \u001b[0msolve_triangular\u001b[0m\u001b[1;33m\u001b[0m\u001b[0m\n\u001b[0;32m     21\u001b[0m \u001b[1;33m\u001b[0m\u001b[0m\n",
      "\u001b[1;32mc:\\users\\86540\\appdata\\local\\programs\\python\\python36\\lib\\site-packages\\scipy\\special\\__init__.py\u001b[0m in \u001b[0;36m<module>\u001b[1;34m()\u001b[0m\n\u001b[0;32m    646\u001b[0m \u001b[1;32mfrom\u001b[0m \u001b[1;33m.\u001b[0m\u001b[0morthogonal\u001b[0m \u001b[1;32mimport\u001b[0m \u001b[1;33m*\u001b[0m\u001b[1;33m\u001b[0m\u001b[0m\n\u001b[0;32m    647\u001b[0m \u001b[1;32mfrom\u001b[0m \u001b[1;33m.\u001b[0m\u001b[0mspfun_stats\u001b[0m \u001b[1;32mimport\u001b[0m \u001b[0mmultigammaln\u001b[0m\u001b[1;33m\u001b[0m\u001b[0m\n\u001b[1;32m--> 648\u001b[1;33m \u001b[1;32mfrom\u001b[0m \u001b[1;33m.\u001b[0m\u001b[0m_ellip_harm\u001b[0m \u001b[1;32mimport\u001b[0m \u001b[0mellip_harm\u001b[0m\u001b[1;33m,\u001b[0m \u001b[0mellip_harm_2\u001b[0m\u001b[1;33m,\u001b[0m \u001b[0mellip_normal\u001b[0m\u001b[1;33m\u001b[0m\u001b[0m\n\u001b[0m\u001b[0;32m    649\u001b[0m \u001b[1;32mfrom\u001b[0m \u001b[1;33m.\u001b[0m\u001b[0mlambertw\u001b[0m \u001b[1;32mimport\u001b[0m \u001b[0mlambertw\u001b[0m\u001b[1;33m\u001b[0m\u001b[0m\n\u001b[0;32m    650\u001b[0m from ._spherical_bessel import (spherical_jn, spherical_yn, spherical_in,\n",
      "\u001b[1;32mc:\\users\\86540\\appdata\\local\\programs\\python\\python36\\lib\\site-packages\\scipy\\special\\_ellip_harm.py\u001b[0m in \u001b[0;36m<module>\u001b[1;34m()\u001b[0m\n\u001b[0;32m      5\u001b[0m \u001b[1;33m\u001b[0m\u001b[0m\n\u001b[0;32m      6\u001b[0m \u001b[1;32mfrom\u001b[0m \u001b[1;33m.\u001b[0m\u001b[0m_ufuncs\u001b[0m \u001b[1;32mimport\u001b[0m \u001b[0m_ellip_harm\u001b[0m\u001b[1;33m\u001b[0m\u001b[0m\n\u001b[1;32m----> 7\u001b[1;33m \u001b[1;32mfrom\u001b[0m \u001b[1;33m.\u001b[0m\u001b[0m_ellip_harm_2\u001b[0m \u001b[1;32mimport\u001b[0m \u001b[0m_ellipsoid\u001b[0m\u001b[1;33m,\u001b[0m \u001b[0m_ellipsoid_norm\u001b[0m\u001b[1;33m\u001b[0m\u001b[0m\n\u001b[0m\u001b[0;32m      8\u001b[0m \u001b[1;33m\u001b[0m\u001b[0m\n\u001b[0;32m      9\u001b[0m \u001b[1;33m\u001b[0m\u001b[0m\n",
      "\u001b[1;32m_ellip_harm_2.pyx\u001b[0m in \u001b[0;36minit scipy.special._ellip_harm_2\u001b[1;34m()\u001b[0m\n",
      "\u001b[1;32mc:\\users\\86540\\appdata\\local\\programs\\python\\python36\\lib\\site-packages\\scipy\\integrate\\__init__.py\u001b[0m in \u001b[0;36m<module>\u001b[1;34m()\u001b[0m\n\u001b[0;32m     91\u001b[0m \u001b[1;32mfrom\u001b[0m \u001b[1;33m.\u001b[0m\u001b[0mquadpack\u001b[0m \u001b[1;32mimport\u001b[0m \u001b[1;33m*\u001b[0m\u001b[1;33m\u001b[0m\u001b[0m\n\u001b[0;32m     92\u001b[0m \u001b[1;32mfrom\u001b[0m \u001b[1;33m.\u001b[0m\u001b[0m_ode\u001b[0m \u001b[1;32mimport\u001b[0m \u001b[1;33m*\u001b[0m\u001b[1;33m\u001b[0m\u001b[0m\n\u001b[1;32m---> 93\u001b[1;33m \u001b[1;32mfrom\u001b[0m \u001b[1;33m.\u001b[0m\u001b[0m_bvp\u001b[0m \u001b[1;32mimport\u001b[0m \u001b[0msolve_bvp\u001b[0m\u001b[1;33m\u001b[0m\u001b[0m\n\u001b[0m\u001b[0;32m     94\u001b[0m from ._ivp import (solve_ivp, OdeSolution, DenseOutput,\n\u001b[0;32m     95\u001b[0m                    OdeSolver, RK23, RK45, Radau, BDF, LSODA)\n",
      "\u001b[1;32mc:\\users\\86540\\appdata\\local\\programs\\python\\python36\\lib\\site-packages\\scipy\\integrate\\_bvp.py\u001b[0m in \u001b[0;36m<module>\u001b[1;34m()\u001b[0m\n\u001b[0;32m      9\u001b[0m \u001b[1;32mfrom\u001b[0m \u001b[0mscipy\u001b[0m\u001b[1;33m.\u001b[0m\u001b[0msparse\u001b[0m \u001b[1;32mimport\u001b[0m \u001b[0mcoo_matrix\u001b[0m\u001b[1;33m,\u001b[0m \u001b[0mcsc_matrix\u001b[0m\u001b[1;33m\u001b[0m\u001b[0m\n\u001b[0;32m     10\u001b[0m \u001b[1;32mfrom\u001b[0m \u001b[0mscipy\u001b[0m\u001b[1;33m.\u001b[0m\u001b[0msparse\u001b[0m\u001b[1;33m.\u001b[0m\u001b[0mlinalg\u001b[0m \u001b[1;32mimport\u001b[0m \u001b[0msplu\u001b[0m\u001b[1;33m\u001b[0m\u001b[0m\n\u001b[1;32m---> 11\u001b[1;33m \u001b[1;32mfrom\u001b[0m \u001b[0mscipy\u001b[0m\u001b[1;33m.\u001b[0m\u001b[0moptimize\u001b[0m \u001b[1;32mimport\u001b[0m \u001b[0mOptimizeResult\u001b[0m\u001b[1;33m\u001b[0m\u001b[0m\n\u001b[0m\u001b[0;32m     12\u001b[0m \u001b[1;33m\u001b[0m\u001b[0m\n\u001b[0;32m     13\u001b[0m \u001b[1;33m\u001b[0m\u001b[0m\n",
      "\u001b[1;32mc:\\users\\86540\\appdata\\local\\programs\\python\\python36\\lib\\site-packages\\scipy\\optimize\\__init__.py\u001b[0m in \u001b[0;36m<module>\u001b[1;34m()\u001b[0m\n\u001b[0;32m    242\u001b[0m \u001b[1;32mfrom\u001b[0m \u001b[1;33m.\u001b[0m\u001b[0m_root\u001b[0m \u001b[1;32mimport\u001b[0m \u001b[1;33m*\u001b[0m\u001b[1;33m\u001b[0m\u001b[0m\n\u001b[0;32m    243\u001b[0m \u001b[1;32mfrom\u001b[0m \u001b[1;33m.\u001b[0m\u001b[0mminpack\u001b[0m \u001b[1;32mimport\u001b[0m \u001b[1;33m*\u001b[0m\u001b[1;33m\u001b[0m\u001b[0m\n\u001b[1;32m--> 244\u001b[1;33m \u001b[1;32mfrom\u001b[0m \u001b[1;33m.\u001b[0m\u001b[0mzeros\u001b[0m \u001b[1;32mimport\u001b[0m \u001b[1;33m*\u001b[0m\u001b[1;33m\u001b[0m\u001b[0m\n\u001b[0m\u001b[0;32m    245\u001b[0m \u001b[1;32mfrom\u001b[0m \u001b[1;33m.\u001b[0m\u001b[0mlbfgsb\u001b[0m \u001b[1;32mimport\u001b[0m \u001b[0mfmin_l_bfgs_b\u001b[0m\u001b[1;33m,\u001b[0m \u001b[0mLbfgsInvHessProduct\u001b[0m\u001b[1;33m\u001b[0m\u001b[0m\n\u001b[0;32m    246\u001b[0m \u001b[1;32mfrom\u001b[0m \u001b[1;33m.\u001b[0m\u001b[0mtnc\u001b[0m \u001b[1;32mimport\u001b[0m \u001b[0mfmin_tnc\u001b[0m\u001b[1;33m\u001b[0m\u001b[0m\n",
      "\u001b[1;32mc:\\users\\86540\\appdata\\local\\programs\\python\\python36\\lib\\site-packages\\scipy\\optimize\\zeros.py\u001b[0m in \u001b[0;36m<module>\u001b[1;34m()\u001b[0m\n\u001b[0;32m      3\u001b[0m \u001b[1;32mimport\u001b[0m \u001b[0mwarnings\u001b[0m\u001b[1;33m\u001b[0m\u001b[0m\n\u001b[0;32m      4\u001b[0m \u001b[1;33m\u001b[0m\u001b[0m\n\u001b[1;32m----> 5\u001b[1;33m \u001b[1;32mfrom\u001b[0m \u001b[1;33m.\u001b[0m \u001b[1;32mimport\u001b[0m \u001b[0m_zeros\u001b[0m\u001b[1;33m\u001b[0m\u001b[0m\n\u001b[0m\u001b[0;32m      6\u001b[0m \u001b[1;32mfrom\u001b[0m \u001b[0mnumpy\u001b[0m \u001b[1;32mimport\u001b[0m \u001b[0mfinfo\u001b[0m\u001b[1;33m,\u001b[0m \u001b[0msign\u001b[0m\u001b[1;33m,\u001b[0m \u001b[0msqrt\u001b[0m\u001b[1;33m\u001b[0m\u001b[0m\n\u001b[0;32m      7\u001b[0m \u001b[1;33m\u001b[0m\u001b[0m\n",
      "\u001b[1;32mc:\\users\\86540\\appdata\\local\\programs\\python\\python36\\lib\\importlib\\_bootstrap.py\u001b[0m in \u001b[0;36m_find_and_load\u001b[1;34m(name, import_)\u001b[0m\n",
      "\u001b[1;32mc:\\users\\86540\\appdata\\local\\programs\\python\\python36\\lib\\importlib\\_bootstrap.py\u001b[0m in \u001b[0;36m_find_and_load_unlocked\u001b[1;34m(name, import_)\u001b[0m\n",
      "\u001b[1;32mc:\\users\\86540\\appdata\\local\\programs\\python\\python36\\lib\\importlib\\_bootstrap.py\u001b[0m in \u001b[0;36m_load_unlocked\u001b[1;34m(spec)\u001b[0m\n",
      "\u001b[1;32mc:\\users\\86540\\appdata\\local\\programs\\python\\python36\\lib\\importlib\\_bootstrap.py\u001b[0m in \u001b[0;36mmodule_from_spec\u001b[1;34m(spec)\u001b[0m\n",
      "\u001b[1;32mc:\\users\\86540\\appdata\\local\\programs\\python\\python36\\lib\\importlib\\_bootstrap_external.py\u001b[0m in \u001b[0;36mcreate_module\u001b[1;34m(self, spec)\u001b[0m\n",
      "\u001b[1;31mKeyboardInterrupt\u001b[0m: "
     ]
    }
   ],
   "source": [
    "from sklearn.datasets import load_svmlight_file\n",
    "from sklearn.model_selection import train_test_split\n",
    "import sklearn\n",
    "import numpy as np\n",
    "import jupyter\n",
    "import matplotlib\n",
    "import math\n",
    "import matplotlib.pyplot as plt\n",
    "import time"
   ]
  },
  {
   "cell_type": "code",
   "execution_count": null,
   "metadata": {},
   "outputs": [],
   "source": [
    "def getdata(file):\n",
    "    X, y = load_svmlight_file(file)\n",
    "    X = X.toarray()\n",
    "    y = y.reshape(y.shape[0],1)\n",
    "    return X,y"
   ]
  },
  {
   "cell_type": "code",
   "execution_count": null,
   "metadata": {},
   "outputs": [],
   "source": [
    "def mbs_data( X , y ):\n",
    "    temp=np.concatenate((X,y),axis=1)\n",
    "    np.random.shuffle(temp)\n",
    "    col=temp.shape[1]\n",
    "    X_t=temp[:,:col-1]\n",
    "    y_t=temp[:,col-1:col]\n",
    "    X_t=np.array(X_t)\n",
    "    y_t=np.array(y_t)\n",
    "    return X_t,y_t"
   ]
  },
  {
   "cell_type": "code",
   "execution_count": null,
   "metadata": {},
   "outputs": [],
   "source": [
    "def f(x,w):\n",
    "    sum=0\n",
    "    for i in range(w.shape[0]):\n",
    "        sum+=w[i]*x[i]\n",
    "    return sum"
   ]
  },
  {
   "cell_type": "code",
   "execution_count": null,
   "metadata": {},
   "outputs": [],
   "source": [
    "def h_func(x,w):\n",
    "    g=1/(1+np.exp(-1*f(x,w)))\n",
    "    return g"
   ]
  },
  {
   "cell_type": "code",
   "execution_count": null,
   "metadata": {},
   "outputs": [],
   "source": [
    "def loss_func(X,y,w,lam):\n",
    "    sum=0\n",
    "    for i in range(len(y)):\n",
    "        sum += np.log(1 + np.exp(-y[i]*f(X[i], w)))\n",
    "    sum = sum / X.shape[0]+ lam / 2 * np.linalg.norm(w) ** 2\n",
    "    return sum"
   ]
  },
  {
   "cell_type": "code",
   "execution_count": null,
   "metadata": {},
   "outputs": [],
   "source": [
    "def loss_gre(X,y,w,lam):\n",
    "    g = np.zeros(w.shape)\n",
    "    for i in range(X.shape[0]):\n",
    "        g = g + np.array(y[i] * X[i] / ( 1 + np.exp( y[i]* f(X[i],w)))).reshape(g.shape)\n",
    "    g = lam * w -g / X.shape[0]\n",
    "    return g"
   ]
  },
  {
   "cell_type": "code",
   "execution_count": null,
   "metadata": {},
   "outputs": [],
   "source": [
    "def NAG( X , y , X_t , y_t , r , lam , n , epoch, mbs ,threshold):\n",
    "    print('nag')\n",
    "    w = np.zeros(123).reshape(123,1)\n",
    "    v = np.zeros(123).reshape(123,1)\n",
    "    L_NAG = []\n",
    "    acc=[]   \n",
    "    for i in range(epoch):\n",
    "        X_rand,y_rand = mbs_data(X,y)\n",
    "        for j in range(X.shape[0]//mbs-2):\n",
    "            X_train = X_rand[ mbs * ( j % mbs ) : mbs * ( j % mbs + 1 ) ]\n",
    "            y_train = y_rand[ mbs * ( j % mbs ) : mbs * ( j % mbs + 1 ) ]\n",
    "            g = loss_gre(X_train,y_train ,w-r*v,lam)\n",
    "            v = r * v + n * g\n",
    "            w = w - v\n",
    "            if(j%200==1):\n",
    "                print(j)\n",
    "                L_NAG.append(loss_func(X_t,y_t,w,lam))          \n",
    "                predict=0\n",
    "                for j in range(len(y_t)):\n",
    "                    if h_func(X[j],w)>=threshold:\n",
    "                        predict+=1           \n",
    "                acc.append(predict/len(y_t))\n",
    "    return acc,L_NAG"
   ]
  },
  {
   "cell_type": "code",
   "execution_count": null,
   "metadata": {},
   "outputs": [],
   "source": [
    "def RMSProp( X , y , X_t , y_t ,e, r , lam , n , epoch, mbs ,threshold):\n",
    "    print('rmsprop')\n",
    "    w = np.zeros(123)\n",
    "    G=0\n",
    "    L_RMSProp = []\n",
    "    acc=[]\n",
    "    for i in range(epoch):\n",
    "        X_rand,y_rand = mbs_data(X,y)\n",
    "        for j in range(X.shape[0]//mbs):\n",
    "            X_train = X_rand[ mbs * ( j % mbs ) : mbs * ( j % mbs + 1 ) - 1 ]\n",
    "            y_train = y_rand[ mbs * ( j % mbs ) : mbs * ( j % mbs + 1 ) - 1 ]\n",
    "            g = loss_gre(X_train,y_train ,w,lam)\n",
    "            G = r * G + (1-r)*g*g\n",
    "            w = w - n/(np.sqrt(G+e))*g\n",
    "            if(j%50==1):\n",
    "                L_RMSProp.append(loss_func(X_t,y_t,w,lam))          \n",
    "                predict=0\n",
    "                for j in range(len(y_t)):\n",
    "                    if h_func(X[j],w)>=threshold:\n",
    "                        predict+=1           \n",
    "                acc.append(predict/len(y_t))\n",
    "    return acc,L_RMSProp"
   ]
  },
  {
   "cell_type": "code",
   "execution_count": null,
   "metadata": {},
   "outputs": [],
   "source": [
    "def AdaDelta( X , y , X_t , y_t ,e, r , lam , n , epoch, mbs ,threshold):\n",
    "    print('adadelta')\n",
    "    w = np.zeros(123)\n",
    "    G=0\n",
    "    L_AdaDelta = []\n",
    "    acc=[]\n",
    "    delta=0\n",
    "    for i in range(epoch):\n",
    "        X_rand,y_rand = mbs_data(X,y)\n",
    "        for j in range(X.shape[0]//mbs):\n",
    "            X_train = X_rand[ mbs * ( j % mbs ) : mbs * ( j % mbs + 1 ) - 1 ]\n",
    "            y_train = y_rand[ mbs * ( j % mbs ) : mbs * ( j % mbs + 1 ) - 1 ]\n",
    "            g = loss_gre(X_train,y_train ,w,lam)\n",
    "            G = r * G + (1-r)*g*g\n",
    "            delta_w = - np.sqrt( delta + e ) / np.sqrt( G + e ) * g\n",
    "            w = w + delta_w\n",
    "            delta = r * delta + ( 1 - r) * delta_w * delta_w\n",
    "            if(j%50==1):\n",
    "                L_AdaDelta.append(loss_func(X_t,y_t,w,lam))          \n",
    "                predict=0\n",
    "                for j in range(len(y_t)):\n",
    "                    if h_func(X[j],w)>=threshold:\n",
    "                        predict+=1           \n",
    "                acc.append(predict/len(y_t)) \n",
    "    return acc,L_AdaDelta"
   ]
  },
  {
   "cell_type": "code",
   "execution_count": null,
   "metadata": {},
   "outputs": [],
   "source": [
    "def Adam( X , y , X_t , y_t ,e, r , lam , n , epoch, mbs ,threshold,b):\n",
    "    print(\"adam\")\n",
    "    w = np.zeros(123)\n",
    "    G=0\n",
    "    L_Adam = []\n",
    "    acc=[]\n",
    "    m=0\n",
    "    for i in range(epoch):\n",
    "        X_rand,y_rand = mbs_data(X,y)\n",
    "        for j in range(X.shape[0]//mbs):\n",
    "            X_train = X_rand[ mbs * ( j % mbs ) : mbs * ( j % mbs + 1 ) - 1 ]\n",
    "            y_train = y_rand[ mbs * ( j % mbs ) : mbs * ( j % mbs + 1 ) - 1 ]\n",
    "            g = loss_gre(X_train,y_train ,w,lam)\n",
    "            m = b * m + (1 - b) * g\n",
    "            G = r * G + (1 - r) * g * g\n",
    "            a = n * np.sqrt(1 - np.power(r,i))/(1 - np.power(b , i))\n",
    "            w = w - a * m / np.sqrt( G + e )            \n",
    "            if(j%50==1):\n",
    "                L_Adam.append(loss_func(X_t,y_t,w,lam))          \n",
    "                predict=0\n",
    "                for j in range(len(y_t)):\n",
    "                    if h_func(X[j],w)>=threshold:\n",
    "                        predict+=1           \n",
    "                acc.append(predict/len(y_t))\n",
    "    return acc,L_Adam"
   ]
  },
  {
   "cell_type": "code",
   "execution_count": null,
   "metadata": {},
   "outputs": [],
   "source": [
    "X_test, y_test = load_svmlight_file('a9a.t',n_features=123)\n",
    "X_test = X_test.toarray()\n",
    "y_test = y_test.reshape(y_test.shape[0],1)\n",
    "X,y=getdata('a9a')\n",
    "\n",
    "epoch = 10\n",
    "mini_batch_size=64\n",
    "\n",
    "lam_NAG = 0.001 \n",
    "n_NAG=0.01\n",
    "r_NAG=0.9\n",
    "threshold_NAG=0.1\n",
    "acc_NAG=[]\n",
    "L_NAG=[]\n",
    "\n",
    "lam_PMSProp = 0.001 \n",
    "n_PMSProp=0.01\n",
    "r_PMSProp=0.9\n",
    "e_PMSProp=np.exp(-8)\n",
    "threshold_PMSProp=0.1\n",
    "acc_PMSProp=[]\n",
    "L_PMSProp=[]\n",
    "\n",
    "lam_AdaDelta = 0.001 \n",
    "n_AdaDelta=0.01\n",
    "r_AdaDelta=0.95\n",
    "e_AdaDelta=np.exp(-8)\n",
    "threshold_AdaDelta=0.1\n",
    "acc_AdaDelta=[]\n",
    "L_AdaDelta=[]\n",
    "\n",
    "lam_Adam = 0.001 \n",
    "n_Adam=0.01\n",
    "r_Adam=0.999\n",
    "e_Adam=np.exp(-8)\n",
    "threshold_Adam=0.5\n",
    "b_Adam=0.9\n",
    "acc_Adam=[]\n",
    "L_Adam=[]\n",
    "\n",
    "acc_NAG,L_NAG=NAG(X,y,X_test, y_test,r_NAG , lam_NAG , n_NAG , epoch,mini_batch_size,threshold_NAG)\n",
    "acc_RMSProp,L_RMSProp=RMSProp( X , y , X_test , y_test ,e_PMSProp, r_PMSProp , lam_PMSProp , n_PMSProp , epoch, mini_batch_size ,threshold_PMSProp)\n",
    "acc_AdaDelta,L_AdaDelta=AdaDelta( X , y , X_test , y_test ,e_AdaDelta, r_AdaDelta , lam_AdaDelta , n_AdaDelta , epoch, mini_batch_size,threshold_AdaDelta )\n",
    "acc_Adam,L_Adam=Adam( X , y , X_test , y_test ,e_Adam, r_Adam , lam_Adam , n_Adam , epoch, mini_batch_size,threshold_Adam ,b_Adam)\n"
   ]
  },
  {
   "cell_type": "code",
   "execution_count": null,
   "metadata": {},
   "outputs": [],
   "source": [
    "fig, ax = plt.subplots()\n",
    "\n",
    "ax_e = ax.twinx()\n",
    "\n",
    "loss_NAG_line = ax.plot(np.arange(len(L_NAG)),L_NAG,label='L_NAG')\n",
    "loss_RMSProp_line = ax.plot(np.arange(len(L_RMSProp)),L_RMSProp,label='L_RMSProp')\n",
    "loss_AdaDelta_line = ax.plot(np.arange(len(L_AdaDelta)),L_AdaDelta,label='L_AdaDelta')\n",
    "loss_Adam_line = ax.plot(np.arange(len(L_Adam)),L_Adam,label='L_Adam')\n",
    "\n",
    "accuracy_NAG_line = ax_e.plot(np.arange(len(L_NAG)),acc_NAG,'r',label='acc_NAG')\n",
    "accuracy_RMSProp_line = ax_e.plot(np.arange(len(L_RMSProp)),acc_RMSProp,'b',label='acc_RMSProp')\n",
    "accuracy_AdaDelta_line = ax_e.plot(np.arange(len(L_AdaDelta)),acc_AdaDelta,'r',label='acc_AdaDelta')\n",
    "accuracy_Adam_line = ax_e.plot(np.arange(len(L_Adam)),acc_Adam,'b',label='acc_Adam')\n",
    "\n",
    "#plt.yscale('log')\n",
    "ax.set(xlabel='Epoch', ylabel='Loss')\n",
    "ax_e.set_ylabel('Accuracy')\n",
    "plt.show()\n"
   ]
  },
  {
   "cell_type": "code",
   "execution_count": null,
   "metadata": {},
   "outputs": [],
   "source": []
  },
  {
   "cell_type": "code",
   "execution_count": null,
   "metadata": {},
   "outputs": [],
   "source": []
  },
  {
   "cell_type": "code",
   "execution_count": null,
   "metadata": {},
   "outputs": [],
   "source": []
  }
 ],
 "metadata": {
  "kernelspec": {
   "display_name": "Python 3",
   "language": "python",
   "name": "python3"
  },
  "language_info": {
   "codemirror_mode": {
    "name": "ipython",
    "version": 3
   },
   "file_extension": ".py",
   "mimetype": "text/x-python",
   "name": "python",
   "nbconvert_exporter": "python",
   "pygments_lexer": "ipython3",
   "version": "3.6.3"
  }
 },
 "nbformat": 4,
 "nbformat_minor": 2
}
