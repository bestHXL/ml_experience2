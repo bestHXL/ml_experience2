{
 "cells": [
  {
   "cell_type": "code",
   "execution_count": 1,
   "metadata": {},
   "outputs": [],
   "source": [
    "from sklearn.datasets import load_svmlight_file\n",
    "from sklearn.model_selection import train_test_split\n",
    "import sklearn\n",
    "import numpy as np\n",
    "import jupyter\n",
    "import matplotlib\n",
    "import math\n",
    "import matplotlib.pyplot as plt\n",
    "import time"
   ]
  },
  {
   "cell_type": "code",
   "execution_count": 2,
   "metadata": {},
   "outputs": [],
   "source": [
    "def getdata(file):\n",
    "    X, y = load_svmlight_file(file)\n",
    "    X = X.toarray()\n",
    "    y = y.reshape(y.shape[0],1)\n",
    "    return X,y"
   ]
  },
  {
   "cell_type": "code",
   "execution_count": 3,
   "metadata": {},
   "outputs": [],
   "source": [
    "def mbs_data( X , y ):\n",
    "    temp=np.concatenate((X,y),axis=1)\n",
    "    np.random.shuffle(temp)\n",
    "    col=temp.shape[1]\n",
    "    X_t=temp[:,:col-1]\n",
    "    y_t=temp[:,col-1:col]\n",
    "    X_t=np.array(X_t)\n",
    "    y_t=np.array(y_t)\n",
    "    return X_t,y_t"
   ]
  },
  {
   "cell_type": "code",
   "execution_count": 4,
   "metadata": {},
   "outputs": [],
   "source": [
    "def f(x,w):\n",
    "    sum=0\n",
    "    for i in range(w.shape[0]):\n",
    "        sum+=w[i]*x[i]\n",
    "    return sum"
   ]
  },
  {
   "cell_type": "code",
   "execution_count": 5,
   "metadata": {},
   "outputs": [],
   "source": [
    "def h_func(x,w):\n",
    "    g=1/(1+np.exp(-1*f(x,w)))\n",
    "    return g"
   ]
  },
  {
   "cell_type": "code",
   "execution_count": 6,
   "metadata": {},
   "outputs": [],
   "source": [
    "def loss_func(X,y,w,lam):\n",
    "    sum=0\n",
    "    for i in range(len(y)):\n",
    "        sum += np.log(1 + np.exp(-y[i]*f(X[i], w)))\n",
    "    sum = sum / X.shape[0]+ lam / 2 * np.linalg.norm(w) ** 2\n",
    "    return sum"
   ]
  },
  {
   "cell_type": "code",
   "execution_count": 7,
   "metadata": {},
   "outputs": [],
   "source": [
    "def loss_gre(X,y,w,lam):\n",
    "    g = np.zeros(w.shape)\n",
    "    for i in range(X.shape[0]):\n",
    "        g = g + np.array(y[i] * X[i] / ( 1 + np.exp( y[i]* f(X[i],w)))).reshape(g.shape)\n",
    "    g = lam * w -g / X.shape[0]\n",
    "    return g"
   ]
  },
  {
   "cell_type": "code",
   "execution_count": 8,
   "metadata": {},
   "outputs": [],
   "source": [
    "def NAG( X , y , X_t , y_t , r , lam , n , epoch, mbs ,threshold):\n",
    "    w = np.zeros(123).reshape(123,1)\n",
    "    v = np.zeros(123).reshape(123,1)\n",
    "    L_NAG = []\n",
    "    acc=[]   \n",
    "    for i in range(epoch):\n",
    "        X_rand,y_rand = mbs_data(X,y)\n",
    "        for j in range(X.shape[0]//mbs-2):\n",
    "            X_train = X_rand[ mbs * ( j % mbs ) : mbs * ( j % mbs + 1 ) ]\n",
    "            y_train = y_rand[ mbs * ( j % mbs ) : mbs * ( j % mbs + 1 ) ]\n",
    "            g = loss_gre(X_train,y_train ,w-r*v,lam)\n",
    "            v = r * v + n * g\n",
    "            w = w - v\n",
    "            if(j%200==1):\n",
    "                L_NAG.append(loss_func(X_t,y_t,w,lam))          \n",
    "                predict=0\n",
    "                for j in range(len(y_t)):\n",
    "                    if h_func(X[j],w)>=threshold:\n",
    "                        predict+=1           \n",
    "                acc.append(predict/len(y_t))\n",
    "    return acc,L_NAG"
   ]
  },
  {
   "cell_type": "code",
   "execution_count": 9,
   "metadata": {},
   "outputs": [],
   "source": [
    "def RMSProp( X , y , X_t , y_t ,e, r , lam , n , epoch, mbs ,threshold):\n",
    "    w = np.zeros(123)\n",
    "    G=0\n",
    "    L_RMSProp = []\n",
    "    acc=[]\n",
    "    for i in range(epoch):\n",
    "        X_rand,y_rand = mbs_data(X,y)\n",
    "        for j in range(X.shape[0]//mbs):\n",
    "            X_train = X_rand[ mbs * ( j % mbs ) : mbs * ( j % mbs + 1 ) - 1 ]\n",
    "            y_train = y_rand[ mbs * ( j % mbs ) : mbs * ( j % mbs + 1 ) - 1 ]\n",
    "            g = loss_gre(X_train,y_train ,w,lam)\n",
    "            G = r * G + (1-r)*g*g\n",
    "            w = w - n/(np.sqrt(G+e))*g\n",
    "            if(j%50==1):\n",
    "                L_RMSProp.append(loss_func(X_t,y_t,w,lam))          \n",
    "                predict=0\n",
    "                for j in range(len(y_t)):\n",
    "                    if h_func(X[j],w)>=threshold:\n",
    "                        predict+=1           \n",
    "                acc.append(predict/len(y_t))\n",
    "    return acc,L_RMSProp"
   ]
  },
  {
   "cell_type": "code",
   "execution_count": 10,
   "metadata": {},
   "outputs": [],
   "source": [
    "def AdaDelta( X , y , X_t , y_t ,e, r , lam , n , epoch, mbs ,threshold):\n",
    "    w = np.zeros(123)\n",
    "    G=0\n",
    "    L_AdaDelta = []\n",
    "    acc=[]\n",
    "    delta=0\n",
    "    for i in range(epoch):\n",
    "        X_rand,y_rand = mbs_data(X,y)\n",
    "        for j in range(X.shape[0]//mbs):\n",
    "            X_train = X_rand[ mbs * ( j % mbs ) : mbs * ( j % mbs + 1 ) - 1 ]\n",
    "            y_train = y_rand[ mbs * ( j % mbs ) : mbs * ( j % mbs + 1 ) - 1 ]\n",
    "            g = loss_gre(X_train,y_train ,w,lam)\n",
    "            G = r * G + (1-r)*g*g\n",
    "            delta_w = - np.sqrt( delta + e ) / np.sqrt( G + e ) * g\n",
    "            w = w + delta_w\n",
    "            delta = r * delta + ( 1 - r) * delta_w * delta_w\n",
    "            if(j%50==1):\n",
    "                L_AdaDelta.append(loss_func(X_t,y_t,w,lam))          \n",
    "                predict=0\n",
    "                for j in range(len(y_t)):\n",
    "                    if h_func(X[j],w)>=threshold:\n",
    "                        predict+=1           \n",
    "                acc.append(predict/len(y_t)) \n",
    "    return acc,L_AdaDelta"
   ]
  },
  {
   "cell_type": "code",
   "execution_count": 11,
   "metadata": {},
   "outputs": [],
   "source": [
    "def Adam( X , y , X_t , y_t ,e, r , lam , n , epoch, mbs ,threshold,b):\n",
    "    w = np.zeros(123)\n",
    "    G=0\n",
    "    L_Adam = []\n",
    "    acc=[]\n",
    "    m=0\n",
    "    for i in range(epoch):\n",
    "        X_rand,y_rand = mbs_data(X,y)\n",
    "        for j in range(X.shape[0]//mbs):\n",
    "            X_train = X_rand[ mbs * ( j % mbs ) : mbs * ( j % mbs + 1 ) - 1 ]\n",
    "            y_train = y_rand[ mbs * ( j % mbs ) : mbs * ( j % mbs + 1 ) - 1 ]\n",
    "            g = loss_gre(X_train,y_train ,w,lam)\n",
    "            m = b * m + (1 - b) * g\n",
    "            G = r * G + (1 - r) * g * g\n",
    "            a = n * np.sqrt(1 - np.power(r,i))/(1 - np.power(b , i))\n",
    "            w = w - a * m / np.sqrt( G + e )            \n",
    "            if(j%50==1):\n",
    "                L_Adam.append(loss_func(X_t,y_t,w,lam))          \n",
    "                predict=0\n",
    "                for j in range(len(y_t)):\n",
    "                    if h_func(X[j],w)>=threshold:\n",
    "                        predict+=1           \n",
    "                acc.append(predict/len(y_t))\n",
    "    return acc,L_Adam"
   ]
  },
  {
   "cell_type": "code",
   "execution_count": 12,
   "metadata": {},
   "outputs": [
    {
     "ename": "KeyboardInterrupt",
     "evalue": "",
     "output_type": "error",
     "traceback": [
      "\u001b[1;31m---------------------------------------------------------------------------\u001b[0m",
      "\u001b[1;31mKeyboardInterrupt\u001b[0m                         Traceback (most recent call last)",
      "\u001b[1;32m<ipython-input-12-58321e4efebd>\u001b[0m in \u001b[0;36m<module>\u001b[1;34m()\u001b[0m\n\u001b[0;32m     39\u001b[0m \u001b[0mL_Adam\u001b[0m\u001b[1;33m=\u001b[0m\u001b[1;33m[\u001b[0m\u001b[1;33m]\u001b[0m\u001b[1;33m\u001b[0m\u001b[0m\n\u001b[0;32m     40\u001b[0m \u001b[1;33m\u001b[0m\u001b[0m\n\u001b[1;32m---> 41\u001b[1;33m \u001b[0macc_NAG\u001b[0m\u001b[1;33m,\u001b[0m\u001b[0mL_NAG\u001b[0m\u001b[1;33m=\u001b[0m\u001b[0mNAG\u001b[0m\u001b[1;33m(\u001b[0m\u001b[0mX\u001b[0m\u001b[1;33m,\u001b[0m\u001b[0my\u001b[0m\u001b[1;33m,\u001b[0m\u001b[0mX_test\u001b[0m\u001b[1;33m,\u001b[0m \u001b[0my_test\u001b[0m\u001b[1;33m,\u001b[0m\u001b[0mr_NAG\u001b[0m \u001b[1;33m,\u001b[0m \u001b[0mlam_NAG\u001b[0m \u001b[1;33m,\u001b[0m \u001b[0mn_NAG\u001b[0m \u001b[1;33m,\u001b[0m \u001b[0mepoch\u001b[0m\u001b[1;33m,\u001b[0m\u001b[0mmini_batch_size\u001b[0m\u001b[1;33m,\u001b[0m\u001b[0mthreshold_NAG\u001b[0m\u001b[1;33m)\u001b[0m\u001b[1;33m\u001b[0m\u001b[0m\n\u001b[0m\u001b[0;32m     42\u001b[0m \u001b[0macc_RMSProp\u001b[0m\u001b[1;33m,\u001b[0m\u001b[0mL_RMSProp\u001b[0m\u001b[1;33m=\u001b[0m\u001b[0mRMSProp\u001b[0m\u001b[1;33m(\u001b[0m \u001b[0mX\u001b[0m \u001b[1;33m,\u001b[0m \u001b[0my\u001b[0m \u001b[1;33m,\u001b[0m \u001b[0mX_test\u001b[0m \u001b[1;33m,\u001b[0m \u001b[0my_test\u001b[0m \u001b[1;33m,\u001b[0m\u001b[0me_PMSProp\u001b[0m\u001b[1;33m,\u001b[0m \u001b[0mr_PMSProp\u001b[0m \u001b[1;33m,\u001b[0m \u001b[0mlam_PMSProp\u001b[0m \u001b[1;33m,\u001b[0m \u001b[0mn_PMSProp\u001b[0m \u001b[1;33m,\u001b[0m \u001b[0mepoch\u001b[0m\u001b[1;33m,\u001b[0m \u001b[0mmini_batch_size\u001b[0m \u001b[1;33m,\u001b[0m\u001b[0mthreshold_PMSProp\u001b[0m\u001b[1;33m)\u001b[0m\u001b[1;33m\u001b[0m\u001b[0m\n\u001b[0;32m     43\u001b[0m \u001b[0macc_AdaDelta\u001b[0m\u001b[1;33m,\u001b[0m\u001b[0mL_AdaDelta\u001b[0m\u001b[1;33m=\u001b[0m\u001b[0mAdaDelta\u001b[0m\u001b[1;33m(\u001b[0m \u001b[0mX\u001b[0m \u001b[1;33m,\u001b[0m \u001b[0my\u001b[0m \u001b[1;33m,\u001b[0m \u001b[0mX_test\u001b[0m \u001b[1;33m,\u001b[0m \u001b[0my_test\u001b[0m \u001b[1;33m,\u001b[0m\u001b[0me_AdaDelta\u001b[0m\u001b[1;33m,\u001b[0m \u001b[0mr_AdaDelta\u001b[0m \u001b[1;33m,\u001b[0m \u001b[0mlam_AdaDelta\u001b[0m \u001b[1;33m,\u001b[0m \u001b[0mn_AdaDelta\u001b[0m \u001b[1;33m,\u001b[0m \u001b[0mepoch\u001b[0m\u001b[1;33m,\u001b[0m \u001b[0mmini_batch_size\u001b[0m\u001b[1;33m,\u001b[0m\u001b[0mthreshold_AdaDelta\u001b[0m \u001b[1;33m)\u001b[0m\u001b[1;33m\u001b[0m\u001b[0m\n",
      "\u001b[1;32m<ipython-input-8-fd2c136b3dd1>\u001b[0m in \u001b[0;36mNAG\u001b[1;34m(X, y, X_t, y_t, r, lam, n, epoch, mbs, threshold)\u001b[0m\n\u001b[0;32m     13\u001b[0m             \u001b[0mw\u001b[0m \u001b[1;33m=\u001b[0m \u001b[0mw\u001b[0m \u001b[1;33m-\u001b[0m \u001b[0mv\u001b[0m\u001b[1;33m\u001b[0m\u001b[0m\n\u001b[0;32m     14\u001b[0m             \u001b[1;32mif\u001b[0m\u001b[1;33m(\u001b[0m\u001b[0mj\u001b[0m\u001b[1;33m%\u001b[0m\u001b[1;36m200\u001b[0m\u001b[1;33m==\u001b[0m\u001b[1;36m1\u001b[0m\u001b[1;33m)\u001b[0m\u001b[1;33m:\u001b[0m\u001b[1;33m\u001b[0m\u001b[0m\n\u001b[1;32m---> 15\u001b[1;33m                 \u001b[0mL_NAG\u001b[0m\u001b[1;33m.\u001b[0m\u001b[0mappend\u001b[0m\u001b[1;33m(\u001b[0m\u001b[0mloss_func\u001b[0m\u001b[1;33m(\u001b[0m\u001b[0mX_t\u001b[0m\u001b[1;33m,\u001b[0m\u001b[0my_t\u001b[0m\u001b[1;33m,\u001b[0m\u001b[0mw\u001b[0m\u001b[1;33m,\u001b[0m\u001b[0mlam\u001b[0m\u001b[1;33m)\u001b[0m\u001b[1;33m)\u001b[0m\u001b[1;33m\u001b[0m\u001b[0m\n\u001b[0m\u001b[0;32m     16\u001b[0m                 \u001b[0mpredict\u001b[0m\u001b[1;33m=\u001b[0m\u001b[1;36m0\u001b[0m\u001b[1;33m\u001b[0m\u001b[0m\n\u001b[0;32m     17\u001b[0m                 \u001b[1;32mfor\u001b[0m \u001b[0mj\u001b[0m \u001b[1;32min\u001b[0m \u001b[0mrange\u001b[0m\u001b[1;33m(\u001b[0m\u001b[0mlen\u001b[0m\u001b[1;33m(\u001b[0m\u001b[0my_t\u001b[0m\u001b[1;33m)\u001b[0m\u001b[1;33m)\u001b[0m\u001b[1;33m:\u001b[0m\u001b[1;33m\u001b[0m\u001b[0m\n",
      "\u001b[1;32m<ipython-input-6-2d91dcbd647a>\u001b[0m in \u001b[0;36mloss_func\u001b[1;34m(X, y, w, lam)\u001b[0m\n\u001b[0;32m      2\u001b[0m     \u001b[0msum\u001b[0m\u001b[1;33m=\u001b[0m\u001b[1;36m0\u001b[0m\u001b[1;33m\u001b[0m\u001b[0m\n\u001b[0;32m      3\u001b[0m     \u001b[1;32mfor\u001b[0m \u001b[0mi\u001b[0m \u001b[1;32min\u001b[0m \u001b[0mrange\u001b[0m\u001b[1;33m(\u001b[0m\u001b[0mlen\u001b[0m\u001b[1;33m(\u001b[0m\u001b[0my\u001b[0m\u001b[1;33m)\u001b[0m\u001b[1;33m)\u001b[0m\u001b[1;33m:\u001b[0m\u001b[1;33m\u001b[0m\u001b[0m\n\u001b[1;32m----> 4\u001b[1;33m         \u001b[0msum\u001b[0m \u001b[1;33m+=\u001b[0m \u001b[0mnp\u001b[0m\u001b[1;33m.\u001b[0m\u001b[0mlog\u001b[0m\u001b[1;33m(\u001b[0m\u001b[1;36m1\u001b[0m \u001b[1;33m+\u001b[0m \u001b[0mnp\u001b[0m\u001b[1;33m.\u001b[0m\u001b[0mexp\u001b[0m\u001b[1;33m(\u001b[0m\u001b[1;33m-\u001b[0m\u001b[0my\u001b[0m\u001b[1;33m[\u001b[0m\u001b[0mi\u001b[0m\u001b[1;33m]\u001b[0m\u001b[1;33m*\u001b[0m\u001b[0mf\u001b[0m\u001b[1;33m(\u001b[0m\u001b[0mX\u001b[0m\u001b[1;33m[\u001b[0m\u001b[0mi\u001b[0m\u001b[1;33m]\u001b[0m\u001b[1;33m,\u001b[0m \u001b[0mw\u001b[0m\u001b[1;33m)\u001b[0m\u001b[1;33m)\u001b[0m\u001b[1;33m)\u001b[0m\u001b[1;33m\u001b[0m\u001b[0m\n\u001b[0m\u001b[0;32m      5\u001b[0m     \u001b[0msum\u001b[0m \u001b[1;33m=\u001b[0m \u001b[0msum\u001b[0m \u001b[1;33m/\u001b[0m \u001b[0mX\u001b[0m\u001b[1;33m.\u001b[0m\u001b[0mshape\u001b[0m\u001b[1;33m[\u001b[0m\u001b[1;36m0\u001b[0m\u001b[1;33m]\u001b[0m\u001b[1;33m+\u001b[0m \u001b[0mlam\u001b[0m \u001b[1;33m/\u001b[0m \u001b[1;36m2\u001b[0m \u001b[1;33m*\u001b[0m \u001b[0mnp\u001b[0m\u001b[1;33m.\u001b[0m\u001b[0mlinalg\u001b[0m\u001b[1;33m.\u001b[0m\u001b[0mnorm\u001b[0m\u001b[1;33m(\u001b[0m\u001b[0mw\u001b[0m\u001b[1;33m)\u001b[0m \u001b[1;33m**\u001b[0m \u001b[1;36m2\u001b[0m\u001b[1;33m\u001b[0m\u001b[0m\n\u001b[0;32m      6\u001b[0m     \u001b[1;32mreturn\u001b[0m \u001b[0msum\u001b[0m\u001b[1;33m\u001b[0m\u001b[0m\n",
      "\u001b[1;32m<ipython-input-4-24a12baf68f5>\u001b[0m in \u001b[0;36mf\u001b[1;34m(x, w)\u001b[0m\n\u001b[0;32m      2\u001b[0m     \u001b[0msum\u001b[0m\u001b[1;33m=\u001b[0m\u001b[1;36m0\u001b[0m\u001b[1;33m\u001b[0m\u001b[0m\n\u001b[0;32m      3\u001b[0m     \u001b[1;32mfor\u001b[0m \u001b[0mi\u001b[0m \u001b[1;32min\u001b[0m \u001b[0mrange\u001b[0m\u001b[1;33m(\u001b[0m\u001b[0mw\u001b[0m\u001b[1;33m.\u001b[0m\u001b[0mshape\u001b[0m\u001b[1;33m[\u001b[0m\u001b[1;36m0\u001b[0m\u001b[1;33m]\u001b[0m\u001b[1;33m)\u001b[0m\u001b[1;33m:\u001b[0m\u001b[1;33m\u001b[0m\u001b[0m\n\u001b[1;32m----> 4\u001b[1;33m         \u001b[0msum\u001b[0m\u001b[1;33m+=\u001b[0m\u001b[0mw\u001b[0m\u001b[1;33m[\u001b[0m\u001b[0mi\u001b[0m\u001b[1;33m]\u001b[0m\u001b[1;33m*\u001b[0m\u001b[0mx\u001b[0m\u001b[1;33m[\u001b[0m\u001b[0mi\u001b[0m\u001b[1;33m]\u001b[0m\u001b[1;33m\u001b[0m\u001b[0m\n\u001b[0m\u001b[0;32m      5\u001b[0m     \u001b[1;32mreturn\u001b[0m \u001b[0msum\u001b[0m\u001b[1;33m\u001b[0m\u001b[0m\n",
      "\u001b[1;31mKeyboardInterrupt\u001b[0m: "
     ]
    }
   ],
   "source": [
    "X_test, y_test = load_svmlight_file('a9a.t',n_features=123)\n",
    "X_test = X_test.toarray()\n",
    "y_test = y_test.reshape(y_test.shape[0],1)\n",
    "X,y=getdata('a9a')\n",
    "\n",
    "epoch = 10\n",
    "mini_batch_size=64\n",
    "\n",
    "lam_NAG = 0.001 \n",
    "n_NAG=0.01\n",
    "r_NAG=0.9\n",
    "threshold_NAG=0.1\n",
    "acc_NAG=[]\n",
    "L_NAG=[]\n",
    "\n",
    "lam_PMSProp = 0.001 \n",
    "n_PMSProp=0.01\n",
    "r_PMSProp=0.9\n",
    "e_PMSProp=np.exp(-8)\n",
    "threshold_PMSProp=0.1\n",
    "acc_PMSProp=[]\n",
    "L_PMSProp=[]\n",
    "\n",
    "lam_AdaDelta = 0.001 \n",
    "n_AdaDelta=0.01\n",
    "r_AdaDelta=0.95\n",
    "e_AdaDelta=np.exp(-8)\n",
    "threshold_AdaDelta=0.1\n",
    "acc_AdaDelta=[]\n",
    "L_AdaDelta=[]\n",
    "\n",
    "lam_Adam = 0.001 \n",
    "n_Adam=0.01\n",
    "r_Adam=0.999\n",
    "e_Adam=np.exp(-8)\n",
    "threshold_Adam=0.5\n",
    "b_Adam=0.9\n",
    "acc_Adam=[]\n",
    "L_Adam=[]\n",
    "\n",
    "acc_NAG,L_NAG=NAG(X,y,X_test, y_test,r_NAG , lam_NAG , n_NAG , epoch,mini_batch_size,threshold_NAG)\n",
    "acc_RMSProp,L_RMSProp=RMSProp( X , y , X_test , y_test ,e_PMSProp, r_PMSProp , lam_PMSProp , n_PMSProp , epoch, mini_batch_size ,threshold_PMSProp)\n",
    "acc_AdaDelta,L_AdaDelta=AdaDelta( X , y , X_test , y_test ,e_AdaDelta, r_AdaDelta , lam_AdaDelta , n_AdaDelta , epoch, mini_batch_size,threshold_AdaDelta )\n",
    "acc_Adam,L_Adam=Adam( X , y , X_test , y_test ,e_Adam, r_Adam , lam_Adam , n_Adam , epoch, mini_batch_size,threshold_Adam ,b_Adam)\n"
   ]
  },
  {
   "cell_type": "code",
   "execution_count": null,
   "metadata": {},
   "outputs": [],
   "source": [
    "fig, ax = plt.subplots()\n",
    "\n",
    "ax_e = ax.twinx()\n",
    "\n",
    "loss_NAG_line = ax.plot(np.arange(len(L_NAG)),L_NAG,label='L_NAG')\n",
    "loss_RMSProp_line = ax.plot(np.arange(len(L_RMSProp)),L_RMSProp,label='L_RMSProp')\n",
    "loss_AdaDelta_line = ax.plot(np.arange(len(L_AdaDelta)),L_AdaDelta,label='L_AdaDelta')\n",
    "loss_Adam_line = ax.plot(np.arange(len(L_Adam)),L_Adam,label='L_Adam')\n",
    "\n",
    "accuracy_NAG_line = ax_e.plot(np.arange(len(L_NAG)),acc_NAG,'r',label='acc_NAG')\n",
    "accuracy_RMSProp_line = ax_e.plot(np.arange(len(L_RMSProp)),acc_RMSProp,'b',label='acc_RMSProp')\n",
    "accuracy_AdaDelta_line = ax_e.plot(np.arange(len(L_AdaDelta)),acc_AdaDelta,'r',label='acc_AdaDelta')\n",
    "accuracy_Adam_line = ax_e.plot(np.arange(len(L_Adam)),acc_Adam,'b',label='acc_Adam')\n",
    "\n",
    "#plt.yscale('log')\n",
    "ax.set(xlabel='Epoch', ylabel='Loss')\n",
    "ax_e.set_ylabel('Accuracy')\n",
    "plt.show()\n"
   ]
  },
  {
   "cell_type": "code",
   "execution_count": null,
   "metadata": {},
   "outputs": [],
   "source": []
  },
  {
   "cell_type": "code",
   "execution_count": null,
   "metadata": {},
   "outputs": [],
   "source": []
  },
  {
   "cell_type": "code",
   "execution_count": null,
   "metadata": {},
   "outputs": [],
   "source": []
  }
 ],
 "metadata": {
  "kernelspec": {
   "display_name": "Python 3",
   "language": "python",
   "name": "python3"
  },
  "language_info": {
   "codemirror_mode": {
    "name": "ipython",
    "version": 3
   },
   "file_extension": ".py",
   "mimetype": "text/x-python",
   "name": "python",
   "nbconvert_exporter": "python",
   "pygments_lexer": "ipython3",
   "version": "3.6.3"
  }
 },
 "nbformat": 4,
 "nbformat_minor": 2
}
